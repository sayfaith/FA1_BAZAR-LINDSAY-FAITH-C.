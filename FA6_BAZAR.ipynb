{
 "cells": [
  {
   "cell_type": "code",
   "execution_count": 22,
   "id": "de293656",
   "metadata": {},
   "outputs": [
    {
     "name": "stdout",
     "output_type": "stream",
     "text": [
      "Enter base: 2\n",
      "Enter exponent: 1000\n",
      "Iterative result: 1.0715086071862673e+301 (0.00007600 seconds)\n",
      "Recursive result: 1.0715086071862673e+301 (0.00065810 seconds)\n",
      "Iterative function is faster\n"
     ]
    }
   ],
   "source": [
    "import time\n",
    "\n",
    "def iterative_exponent(base, exp):\n",
    "    result = 1\n",
    "    for i in range(exp):\n",
    "        result *= base\n",
    "    return result\n",
    "\n",
    "def recursive_exponent(base, exp):\n",
    "    if exp == 0:\n",
    "        return 1\n",
    "    elif exp == 1:\n",
    "        return base\n",
    "    else:\n",
    "        return base * recursive_exponent(base, exp-1)\n",
    "\n",
    "base = float(input(\"Enter base: \"))\n",
    "exp = int(input(\"Enter exponent: \"))\n",
    "\n",
    "start = time.perf_counter()\n",
    "iterative_result = iterative_exponent(base, exp)\n",
    "iterative_time = time.perf_counter() - start\n",
    "\n",
    "start = time.perf_counter()\n",
    "recursive_result = recursive_exponent(base, exp)\n",
    "recursive_time = time.perf_counter() - start\n",
    "\n",
    "print(f\"Iterative result: {iterative_result} ({iterative_time:.8f} seconds)\")\n",
    "print(f\"Recursive result: {recursive_result} ({recursive_time:.8f} seconds)\")\n",
    "\n",
    "if iterative_time < recursive_time:\n",
    "    print(\"Iterative function is faster\")\n",
    "else:\n",
    "    print(\"Recursive function is faster\")"
   ]
  },
  {
   "cell_type": "code",
   "execution_count": 21,
   "id": "56afef61",
   "metadata": {},
   "outputs": [
    {
     "name": "stdout",
     "output_type": "stream",
     "text": [
      "Enter the value of n: 200\n",
      "\n",
      "\n",
      "Iterative result: 1606938044258990275541962092341162602522202993782792835301375\n",
      "Iterative rendering time: 0.00035560 seconds\n",
      "\n",
      "\n",
      "Recursive result: 1606938044258990275541962092341162602522202993782792835301375\n",
      "Recursive rendering time: 0.00047770 seconds\n",
      "\n",
      "Iterative function is faster\n"
     ]
    }
   ],
   "source": [
    "import time\n",
    "\n",
    "def sum_powers_iter(n):\n",
    "    result = 0\n",
    "    for i in range(n):\n",
    "        result += 2**i\n",
    "    return result\n",
    "\n",
    "def sum_powers_rec(n):\n",
    "    if n == 0:\n",
    "        return 0\n",
    "    else:\n",
    "        return 2**(n-1) + sum_powers_rec(n-1)\n",
    "\n",
    "n = int(input(\"Enter the value of n: \"))\n",
    "\n",
    "start_time_iter = time.perf_counter()\n",
    "result_iter = sum_powers_iter(n)\n",
    "end_time_iter = time.perf_counter()\n",
    "\n",
    "start_time_rec = time.perf_counter()\n",
    "result_rec = sum_powers_rec(n)\n",
    "end_time_rec = time.perf_counter()\n",
    "\n",
    "print(\"\\n\")\n",
    "print(f\"Iterative result: {result_iter}\")\n",
    "print(f\"Iterative rendering time: {end_time_iter - start_time_iter:.8f} seconds\")\n",
    "print(\"\\n\")\n",
    "print(f\"Recursive result: {result_rec}\")\n",
    "print(f\"Recursive rendering time: {end_time_rec - start_time_rec:.8f} seconds\")\n",
    "\n",
    "if end_time_iter - start_time_iter < end_time_rec - start_time_rec:\n",
    "    print(\"\\nIterative function is faster\")\n",
    "else:\n",
    "    print(\"\\nRecursive function is faster\")"
   ]
  }
 ],
 "metadata": {
  "kernelspec": {
   "display_name": "Python 3 (ipykernel)",
   "language": "python",
   "name": "python3"
  },
  "language_info": {
   "codemirror_mode": {
    "name": "ipython",
    "version": 3
   },
   "file_extension": ".py",
   "mimetype": "text/x-python",
   "name": "python",
   "nbconvert_exporter": "python",
   "pygments_lexer": "ipython3",
   "version": "3.9.13"
  }
 },
 "nbformat": 4,
 "nbformat_minor": 5
}
